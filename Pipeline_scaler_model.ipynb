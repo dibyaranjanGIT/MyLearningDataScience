{
 "cells": [
  {
   "cell_type": "markdown",
   "metadata": {},
   "source": [
    "1. import numpy as np\n",
    "1. from sklearn import datasets\n",
    "1. from sklearn.pipeline import Pipeline\n",
    "1. from sklearn.preprocessing import StandardScaler\n",
    "1. from sklearn.svm import LinearSVC\n",
    "\n",
    "\n",
    "1. iris = datasets.load_iris()\n",
    "1. X = iris[\"data\"][:, (2, 3)] # petal length, petal width\n",
    "1. y = (iris[\"target\"] == 2).astype(np.float64) # Iris-Virginica\n",
    "1. svm_clf = Pipeline([\n",
    "1. (\"scaler\", StandardScaler()),\n",
    "1. (\"linear_svc\", LinearSVC(C=1, loss=\"hinge\")),\n",
    "1. ])\n",
    "\n",
    "\n",
    "1. svm_clf.fit(X, y)\n",
    "1. svm_clf.predict([[5.5, 1.7]])\n",
    "\n"
   ]
  },
  {
   "cell_type": "markdown",
   "metadata": {},
   "source": [
    "### Alternatively, you could use the SVC class, using SVC(kernel=\"linear\", C=1), but it is much slower, especially with large training sets, so it is not recommended"
   ]
  },
  {
   "cell_type": "code",
   "execution_count": null,
   "metadata": {},
   "outputs": [],
   "source": []
  }
 ],
 "metadata": {
  "kernelspec": {
   "display_name": "ml",
   "language": "python",
   "name": "ml"
  },
  "language_info": {
   "codemirror_mode": {
    "name": "ipython",
    "version": 3
   },
   "file_extension": ".py",
   "mimetype": "text/x-python",
   "name": "python",
   "nbconvert_exporter": "python",
   "pygments_lexer": "ipython3",
   "version": "3.7.7"
  }
 },
 "nbformat": 4,
 "nbformat_minor": 4
}
