{
 "cells": [
  {
   "cell_type": "code",
   "execution_count": 23,
   "metadata": {},
   "outputs": [],
   "source": [
    "np.zeros((2,2))\n",
    "np.ones((2,2))\n",
    "np.linspace(1,10,100) #100 linearly spaced points\n",
    "np.eye(2,2)\n",
    "\n",
    "np.random.rand(2) # Gives two random numbers\n",
    "np.random.randn(2) # GIves two random numbers from gausian distribution\n",
    "np.random.randint(1,20,10)\n",
    "\n",
    "arr = np.arange(10)\n",
    "\n",
    "arr.reshape(2,5)\n",
    "arr.max()\n",
    "arr.argmax() #This will return the index of the max value\n",
    "\n",
    "\n",
    "arr[0:5]\n",
    "arr[0:5] = 100 # This will broad cast all the value from index 0 to 5 to 100\n",
    "arr_c = arr.copy()\n",
    "arr_2d = np.array([[1,2],[3,4]])\n",
    "\n",
    "\n",
    "# arr[arr > 5 ] #Conditional selection\n",
    "\n",
    "# arr ** 2\n",
    "# np.sqrt(arr)"
   ]
  },
  {
   "cell_type": "code",
   "execution_count": null,
   "metadata": {},
   "outputs": [],
   "source": []
  }
 ],
 "metadata": {
  "kernelspec": {
   "display_name": "Python 3",
   "language": "python",
   "name": "python3"
  },
  "language_info": {
   "codemirror_mode": {
    "name": "ipython",
    "version": 3
   },
   "file_extension": ".py",
   "mimetype": "text/x-python",
   "name": "python",
   "nbconvert_exporter": "python",
   "pygments_lexer": "ipython3",
   "version": "3.7.7"
  }
 },
 "nbformat": 4,
 "nbformat_minor": 4
}
